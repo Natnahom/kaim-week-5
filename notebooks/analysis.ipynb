{
 "cells": [
  {
   "cell_type": "code",
   "execution_count": 1,
   "metadata": {},
   "outputs": [],
   "source": [
    "import os, sys\n",
    "\n",
    "notebook_dir = os.getcwd()\n",
    "\n",
    "#add path\n",
    "sys.path.append(os.path.abspath(os.path.join(notebook_dir, '..')))"
   ]
  },
  {
   "cell_type": "code",
   "execution_count": 2,
   "metadata": {},
   "outputs": [],
   "source": [
    "from scripts.preprocess_data import *"
   ]
  },
  {
   "cell_type": "code",
   "execution_count": 3,
   "metadata": {},
   "outputs": [
    {
     "name": "stdout",
     "output_type": "stream",
     "text": [
      "Preprocessed data saved to preprocessed_data.csv\n"
     ]
    }
   ],
   "source": [
    "preprocess_data(\"../telegram_messages.json\")"
   ]
  },
  {
   "cell_type": "code",
   "execution_count": 2,
   "metadata": {},
   "outputs": [],
   "source": [
    "from scripts.CoNLL_formatting import *"
   ]
  },
  {
   "cell_type": "code",
   "execution_count": 3,
   "metadata": {},
   "outputs": [
    {
     "name": "stdout",
     "output_type": "stream",
     "text": [
      "         channel         sender                  timestamp  \\\n",
      "0  @ZemenExpress -1001307493052  2025-01-15 05:43:58+00:00   \n",
      "1  @ZemenExpress -1001307493052  2025-01-15 05:43:58+00:00   \n",
      "2  @ZemenExpress -1001307493052  2025-01-14 13:29:49+00:00   \n",
      "3  @ZemenExpress -1001307493052  2025-01-14 13:29:49+00:00   \n",
      "4  @ZemenExpress -1001307493052  2025-01-14 08:17:05+00:00   \n",
      "\n",
      "                                             content  \\\n",
      "0                                                NaN   \n",
      "1  💥💥..........................💥💥\\n              ...   \n",
      "2                                                NaN   \n",
      "3  💥💥...................................💥💥\\n\\n📌Fe...   \n",
      "4                                                NaN   \n",
      "\n",
      "                                              tokens  \n",
      "0                                                 []  \n",
      "1  ['💥💥..........................💥💥', 'መልካም', 'በአ...  \n",
      "2                                                 []  \n",
      "3  ['💥💥...................................💥💥', '📌...  \n",
      "4                                                 []  \n",
      "Index(['channel', 'sender', 'timestamp', 'content', 'tokens'], dtype='object')\n",
      "Labeled data saved to labeled_data.conll\n"
     ]
    }
   ],
   "source": [
    "# Read the data and save the subset_df in a variable\n",
    "data = 'preprocessed_data.csv'\n",
    "subset_df = read_subset_df(data)\n",
    "\n",
    "# Call the label_data function to process and save the labeled data\n",
    "label_data(subset_df)"
   ]
  }
 ],
 "metadata": {
  "kernelspec": {
   "display_name": ".myvenv5",
   "language": "python",
   "name": "python3"
  },
  "language_info": {
   "codemirror_mode": {
    "name": "ipython",
    "version": 3
   },
   "file_extension": ".py",
   "mimetype": "text/x-python",
   "name": "python",
   "nbconvert_exporter": "python",
   "pygments_lexer": "ipython3",
   "version": "3.9.13"
  }
 },
 "nbformat": 4,
 "nbformat_minor": 2
}
